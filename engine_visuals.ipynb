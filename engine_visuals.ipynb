{
 "cells": [
  {
   "cell_type": "code",
   "execution_count": null,
   "id": "3b976d7f",
   "metadata": {},
   "outputs": [],
   "source": [
    "import numpy as np\n",
    "import matplotlib.pyplot as plt\n",
    "\n",
    "# Velocity range (m/s)\n",
    "V = np.linspace(0, 1200, 500)  # 0 to ~Mach 3.5 at sea level\n",
    "\n",
    "# Simplified thrust curves\n",
    "# These are not to scale — just conceptual shapes\n",
    "\n",
    "# 1. Propeller: high thrust at low speed, drops off quickly\n",
    "thrust_propeller = 2000 * np.exp(-V / 150)\n",
    "\n",
    "# 2. Jet: increases with speed, then levels off\n",
    "thrust_jet = 500 + 0.6 * V - 0.0004 * V**2\n",
    "\n",
    "# 3. Rocket: constant thrust regardless of airspeed\n",
    "thrust_rocket = np.ones_like(V) * 1500\n",
    "\n",
    "# Plotting\n",
    "plt.figure(figsize=(10, 6))\n",
    "plt.plot(V, thrust_propeller, label='Propeller (Piston/Turboprop)', color='green')\n",
    "plt.plot(V, thrust_jet, label='Jet (Turbofan/Brayton)', color='blue')\n",
    "plt.plot(V, thrust_rocket, label='Rocket (Chemical)', color='red')\n",
    "\n",
    "plt.xlabel('Velocity (m/s)')\n",
    "plt.ylabel('Thrust (N)')\n",
    "plt.title('Thrust vs Airspeed for Different Engine Types')\n",
    "plt.legend()\n",
    "plt.grid(True)\n",
    "plt.xlim(0, 1200)\n",
    "plt.ylim(0, 2500)\n",
    "plt.axvline(x=343, color='gray', linestyle='--', label='Mach 1 (Sea Level)')\n",
    "plt.legend()\n",
    "plt.show()\n"
   ]
  }
 ],
 "metadata": {
  "language_info": {
   "name": "python"
  }
 },
 "nbformat": 4,
 "nbformat_minor": 5
}
